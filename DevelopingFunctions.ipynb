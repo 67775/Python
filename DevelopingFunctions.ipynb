{
 "cells": [
  {
   "cell_type": "code",
   "execution_count": null,
   "id": "810cdd1c-d2e7-428e-8b35-814db070c4ad",
   "metadata": {},
   "outputs": [],
   "source": [
    "Problem 1:\n",
    "\n",
    "A bank wants to calculate the compound interest for its customers based on their principal amount, annual interest rate, and the number of years the money is invested. The formula to calculate compound interest is:\n",
    "\n",
    "         A=P . (1 + r/n) n.t\n",
    "\n",
    "Where:\n",
    "\n",
    "A = final amount (principla + interest)\n",
    "P = principal amount\n",
    "r = annual interest rate (as a decimal)\n",
    "n = number of times interest is compouned per year\n",
    "t = time in years\n"
   ]
  },
  {
   "cell_type": "code",
   "execution_count": 2,
   "id": "3d5d9cdc-0aaf-4295-b370-7f50a11b7090",
   "metadata": {},
   "outputs": [
    {
     "data": {
      "text/plain": [
       "1283.36"
      ]
     },
     "execution_count": 2,
     "metadata": {},
     "output_type": "execute_result"
    }
   ],
   "source": [
    "# Example Usage\n",
    "P = 1000 # Principal amount in dollars\n",
    "r = 0.05 # Annual interest rate (5%)\n",
    "t = 5    # Time in years\n",
    "n = 12   # Compounded monthly \n",
    "\n",
    "def calculate_compound_interest(P, r, t, n): \n",
    "    final_amount = P *(1 +r/n) ** (n*t)\n",
    "    return final_amount \n",
    "\n",
    "round(calculate_compound_interest(1000, 0.05, 5, 12),2)"
   ]
  },
  {
   "cell_type": "code",
   "execution_count": null,
   "id": "e2edb4a7-ee3d-4fec-83ff-76970a4020c6",
   "metadata": {},
   "outputs": [],
   "source": [
    "Problem 2:\n",
    "\n",
    "You are tasked with writing a program to calculate the Equated Monthly Installment (EMI) for a loan. The formula to calculate EMI is:\n",
    "\n",
    "        EMI = P*r (1+r)n/(1+r)n -1\n",
    "\n",
    "Where:\n",
    "\n",
    "P = loan principal amount\n",
    "r = monthly interest rate (annual rate divided by 12)\n",
    "n = total number of monthly payments"
   ]
  },
  {
   "cell_type": "code",
   "execution_count": 20,
   "id": "692aefa0-30f6-4ef2-86a1-187426858aa5",
   "metadata": {},
   "outputs": [
    {
     "data": {
      "text/plain": [
       "4028"
      ]
     },
     "execution_count": 20,
     "metadata": {},
     "output_type": "execute_result"
    }
   ],
   "source": [
    "# Example Usage\n",
    "principal = 500000  # Loan amount in dollars\n",
    "annual_rate = 7.5   # Annual interest rate (7.5%)\n",
    "tenure = 20         # Loan tenure in years\n",
    "\n",
    "def calculate_emi(P, r, n):\n",
    "    monthly_rate = (annual_rate/100)/12\n",
    "    total_months = tenure * 12\n",
    "    emi_amount = (P * monthly_rate *((1 + monthly_rate) ** total_months)) / (((1 + monthly_rate) ** total_months)- 1)\n",
    "    return emi_amount\n",
    "\n",
    "round(calculate_emi(500000, 7.5, 20))\n"
   ]
  },
  {
   "cell_type": "code",
   "execution_count": null,
   "id": "e4012019-cf90-40ca-8c9f-2b37a66bc3f5",
   "metadata": {},
   "outputs": [],
   "source": [
    "Problem 3:\n",
    "\n",
    "A health organization needs a program to calcualate a persons's Body Mass Index (BMI) and provide an assessmetn based on the resutl. The BMI calculated using the formula:\n",
    "\n",
    "  BMI = weight (kg)/height (m)2\n",
    "\n",
    "The funcition should als classify the BMI into the following categories:\n",
    "\n",
    "Underweight: BMI < 18.5\n",
    "Normal weight: 18.5<_BMI < 25\n",
    "Overweight:25 <_ BMI < 30\n",
    "Obesity: BMI >_ 30\n",
    "\n"
   ]
  },
  {
   "cell_type": "code",
   "execution_count": 23,
   "id": "e14feb00-afba-45ee-ac9a-653a828786f6",
   "metadata": {},
   "outputs": [
    {
     "data": {
      "text/plain": [
       "(22.857142857142858, 'Normal weight')"
      ]
     },
     "execution_count": 23,
     "metadata": {},
     "output_type": "execute_result"
    }
   ],
   "source": [
    "# Example Usage\n",
    "weight = 70 # Weight in Kilograms\n",
    "height = 1.75  # Height in meters\n",
    "\n",
    "def calculate_bmi(weight, height):\n",
    "    bmi = weight/ (height ** 2)\n",
    "    if bmi < 18.5:\n",
    "        assessment = \"Underweight\"\n",
    "    elif 18.5 <= bmi < 25:\n",
    "        assessment = \"Normal weight\"\n",
    "    elif 25 <= bmi < 30:\n",
    "        assessment = \"Overweight\"\n",
    "    else:\n",
    "        assesssment = \"Obesity\"\n",
    "    return bmi, assessment   \n",
    "calculate_bmi(70, 1.75)"
   ]
  },
  {
   "cell_type": "code",
   "execution_count": null,
   "id": "2eb9287c-ec0f-4bf2-93f0-0188958d037b",
   "metadata": {},
   "outputs": [],
   "source": []
  }
 ],
 "metadata": {
  "kernelspec": {
   "display_name": "anaconda-panel-2023.05-py310",
   "language": "python",
   "name": "conda-env-anaconda-panel-2023.05-py310-py"
  },
  "language_info": {
   "codemirror_mode": {
    "name": "ipython",
    "version": 3
   },
   "file_extension": ".py",
   "mimetype": "text/x-python",
   "name": "python",
   "nbconvert_exporter": "python",
   "pygments_lexer": "ipython3",
   "version": "3.11.5"
  }
 },
 "nbformat": 4,
 "nbformat_minor": 5
}
